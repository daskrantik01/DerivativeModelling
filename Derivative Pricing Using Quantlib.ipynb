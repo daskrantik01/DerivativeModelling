{
 "cells": [
  {
   "cell_type": "code",
   "execution_count": 2,
   "metadata": {},
   "outputs": [
    {
     "name": "stdout",
     "output_type": "stream",
     "text": [
      "Collecting QuantLib\n",
      "  Obtaining dependency information for QuantLib from https://files.pythonhosted.org/packages/de/1d/fa4b7a280435a4181f30c8b040aab1c18780da79e07caa66865a9e7087cf/QuantLib-1.31.1-cp38-cp38-macosx_10_9_x86_64.whl.metadata\n",
      "  Downloading QuantLib-1.31.1-cp38-cp38-macosx_10_9_x86_64.whl.metadata (1.0 kB)\n",
      "Downloading QuantLib-1.31.1-cp38-cp38-macosx_10_9_x86_64.whl (16.4 MB)\n",
      "\u001b[2K   \u001b[90m━━━━━━━━━━━━━━━━━━━━━━━━━━━━━━━━━━━━━━━━\u001b[0m \u001b[32m16.4/16.4 MB\u001b[0m \u001b[31m1.5 MB/s\u001b[0m eta \u001b[36m0:00:00\u001b[0m00:01\u001b[0m00:01\u001b[0m\n",
      "\u001b[?25h\u001b[33mDEPRECATION: pyodbc 4.0.0-unsupported has a non-standard version number. pip 23.3 will enforce this behaviour change. A possible replacement is to upgrade to a newer version of pyodbc or contact the author to suggest that they release a version with a conforming version number. Discussion can be found at https://github.com/pypa/pip/issues/12063\u001b[0m\u001b[33m\n",
      "\u001b[0mInstalling collected packages: QuantLib\n",
      "Successfully installed QuantLib-1.31.1\n",
      "\n",
      "\u001b[1m[\u001b[0m\u001b[34;49mnotice\u001b[0m\u001b[1;39;49m]\u001b[0m\u001b[39;49m A new release of pip is available: \u001b[0m\u001b[31;49m23.2.1\u001b[0m\u001b[39;49m -> \u001b[0m\u001b[32;49m23.3\u001b[0m\n",
      "\u001b[1m[\u001b[0m\u001b[34;49mnotice\u001b[0m\u001b[1;39;49m]\u001b[0m\u001b[39;49m To update, run: \u001b[0m\u001b[32;49mpip install --upgrade pip\u001b[0m\n",
      "Note: you may need to restart the kernel to use updated packages.\n"
     ]
    }
   ],
   "source": [
    "pip install QuantLib"
   ]
  },
  {
   "cell_type": "code",
   "execution_count": 3,
   "metadata": {},
   "outputs": [],
   "source": [
    "import QuantLib as ql\n",
    "import matplotlib.pyplot as plt\n",
    "import numpy as np"
   ]
  },
  {
   "cell_type": "code",
   "execution_count": 19,
   "metadata": {},
   "outputs": [],
   "source": [
    "# Option parameters\n",
    "spot_price = 500.0  # Spot price of the underlying asset\n",
    "strike_price = 150.0  # Strike price of the option\n",
    "risk_free_rate = 0.06  # Risk-free interest rate\n",
    "dividend_rate = 0.05  # Dividend yield of the underlying asset\n",
    "expiration_date = ql.Date(31, 12, 2023)  # Expiration date of the option\n",
    "steps = 100  # Number of time steps in the binomial tree"
   ]
  },
  {
   "cell_type": "code",
   "execution_count": 20,
   "metadata": {},
   "outputs": [],
   "source": [
    "# QuantLib objects\n",
    "calculation_date = ql.Date(1, 1, 2023)\n",
    "ql.Settings.instance().evaluationDate = calculation_date"
   ]
  },
  {
   "cell_type": "code",
   "execution_count": 21,
   "metadata": {},
   "outputs": [],
   "source": [
    "# Define the option\n",
    "payoff = ql.PlainVanillaPayoff(ql.Option.Call, strike_price)\n",
    "exercise = ql.EuropeanExercise(expiration_date)\n",
    "option = ql.VanillaOption(payoff, exercise)"
   ]
  },
  {
   "cell_type": "code",
   "execution_count": 22,
   "metadata": {},
   "outputs": [],
   "source": [
    "# Define the underlying asset\n",
    "spot_handle = ql.QuoteHandle(ql.SimpleQuote(spot_price))\n",
    "flat_ts = ql.YieldTermStructureHandle(\n",
    "    ql.FlatForward(calculation_date, risk_free_rate, ql.Actual365Fixed())\n",
    ")\n",
    "dividend_yield = ql.YieldTermStructureHandle(\n",
    "    ql.FlatForward(calculation_date, dividend_rate, ql.Actual365Fixed())\n",
    ")\n",
    "volatility = 0.2  # Volatility of the underlying asset\n",
    "volatility_handle = ql.BlackVolTermStructureHandle(\n",
    "    ql.BlackConstantVol(calculation_date, ql.TARGET(), volatility, ql.Actual365Fixed())\n",
    ")\n",
    "bsm_process = ql.BlackScholesMertonProcess(spot_handle, dividend_yield, flat_ts, volatility_handle)"
   ]
  },
  {
   "cell_type": "code",
   "execution_count": 23,
   "metadata": {},
   "outputs": [],
   "source": [
    "# Create the binomial tree\n",
    "binomial_engine = ql.BinomialVanillaEngine(bsm_process, \"crr\", steps)\n",
    "option.setPricingEngine(binomial_engine)"
   ]
  },
  {
   "cell_type": "code",
   "execution_count": 24,
   "metadata": {},
   "outputs": [],
   "source": [
    "# Calculate the option price for a range of underlying prices\n",
    "underlying_prices = np.linspace(80, 120, 100)\n",
    "option_prices = []\n",
    "\n",
    "for price in underlying_prices:\n",
    "    spot_handle = ql.QuoteHandle(ql.SimpleQuote(price))\n",
    "    bsm_process = ql.BlackScholesMertonProcess(spot_handle, dividend_yield, flat_ts, volatility_handle)\n",
    "    option.setPricingEngine(ql.BinomialVanillaEngine(bsm_process, \"crr\", steps))\n",
    "    option_prices.append(option.NPV())"
   ]
  },
  {
   "cell_type": "code",
   "execution_count": 25,
   "metadata": {},
   "outputs": [
    {
     "data": {
      "image/png": "[encoded data removed]",
      "text/plain": [
       "<Figure size 576x432 with 1 Axes>"
      ]
     },
     "metadata": {
      "needs_background": "light"
     },
     "output_type": "display_data"
    }
   ],
   "source": [
    "# Plot the option price as a function of the underlying price\n",
    "plt.figure(figsize=(8, 6))\n",
    "plt.plot(underlying_prices, option_prices)\n",
    "plt.xlabel(\"Underlying Price\")\n",
    "plt.ylabel(\"Option Price\")\n",
    "plt.title(\"Option Price vs Underlying Price (Binomial Tree Model)\")\n",
    "plt.grid(True)\n",
    "plt.show()"
   ]
  }
 ],
 "metadata": {
  "kernelspec": {
   "display_name": "Python 3",
   "language": "python",
   "name": "python3"
  },
  "language_info": {
   "codemirror_mode": {
    "name": "ipython",
    "version": 3
   },
   "file_extension": ".py",
   "mimetype": "text/x-python",
   "name": "python",
   "nbconvert_exporter": "python",
   "pygments_lexer": "ipython3",
   "version": "3.8.5"
  }
 },
 "nbformat": 4,
 "nbformat_minor": 4
}
